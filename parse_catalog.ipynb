{
 "cells": [
  {
   "cell_type": "code",
   "execution_count": null,
   "id": "1c908b3f-f157-4bf3-94b3-321a7c7cec1c",
   "metadata": {},
   "outputs": [],
   "source": [
    "import openai\n",
    "import json\n",
    "\n",
    "# Load the JSON data\n",
    "with open('ocr_results.json', 'r', encoding='utf-8') as f:\n",
    "    ocr_results = json.load(f)\n",
    "\n",
    "# Initialize the OpenAI API client\n",
    "openai.api_key = 'your-api-key'\n",
    "\n",
    "# Function to parse OCR text using GPT\n",
    "def parse_text_with_gpt(text):\n",
    "    response = openai.Completion.create(\n",
    "        engine=\"text-davinci-003\",\n",
    "        prompt=f\"Extract the author, title, and publication year from the following text:\\n\\n{text}\\n\\n\",\n",
    "        max_tokens=200\n",
    "    )\n",
    "    return response.choices[0].text.strip()\n",
    "\n",
    "# Parse each OCR result\n",
    "parsed_results = []\n",
    "for result in ocr_results:\n",
    "    parsed_text = parse_text_with_gpt(result['text'])\n",
    "    parsed_results.append({\n",
    "        'file': result['file'],\n",
    "        'language': result['language'],\n",
    "        'parsed_text': parsed_text\n",
    "    })\n",
    "\n",
    "# Save parsed results to a new JSON file\n",
    "with open('parsed_ocr_results.json', 'w', encoding='utf-8') as json_file:\n",
    "    json.dump(parsed_results, json_file, ensure_ascii=False, indent=4)\n"
   ]
  }
 ],
 "metadata": {
  "kernelspec": {
   "display_name": "Python 3 (ipykernel)",
   "language": "python",
   "name": "python3"
  },
  "language_info": {
   "codemirror_mode": {
    "name": "ipython",
    "version": 3
   },
   "file_extension": ".py",
   "mimetype": "text/x-python",
   "name": "python",
   "nbconvert_exporter": "python",
   "pygments_lexer": "ipython3",
   "version": "3.12.4"
  }
 },
 "nbformat": 4,
 "nbformat_minor": 5
}
