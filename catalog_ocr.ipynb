{
 "cells": [
  {
   "cell_type": "code",
   "execution_count": 1,
   "id": "35091c6d-dafe-4747-a9eb-2fb49c89c1d3",
   "metadata": {},
   "outputs": [],
   "source": [
    "from langdetect import detect\n",
    "\n",
    "def detect_language(text):\n",
    "    try:\n",
    "        return detect(text)\n",
    "    except:\n",
    "        return \"unknown\"\n"
   ]
  },
  {
   "cell_type": "code",
   "execution_count": 2,
   "id": "b2d3b368-fbb9-4396-bc4a-7b5e3ddbba53",
   "metadata": {},
   "outputs": [],
   "source": [
    "from pdf2image import convert_from_path\n",
    "\n",
    "def convert_pdf_to_images(pdf_path):\n",
    "    images = convert_from_path(pdf_path)\n",
    "    return images\n"
   ]
  },
  {
   "cell_type": "code",
   "execution_count": 3,
   "id": "17f1dbc5-70d0-4f49-b85c-f432130f0012",
   "metadata": {},
   "outputs": [],
   "source": [
    "import cv2\n",
    "import pytesseract\n",
    "from pdf2image import convert_from_path\n",
    "\n",
    "def ocr_with_language(pdf_path, lang='eng'):\n",
    "    images = convert_from_path(pdf_path)\n",
    "    text = \"\"\n",
    "    for image in images:\n",
    "        # Convert PIL image to OpenCV format\n",
    "        open_cv_image = cv2.cvtColor(np.array(image), cv2.COLOR_RGB2BGR)\n",
    "        \n",
    "        # Pre-process the image\n",
    "        gray = cv2.cvtColor(open_cv_image, cv2.COLOR_BGR2GRAY)\n",
    "        gray = cv2.medianBlur(gray, 3)\n",
    "        gray = cv2.adaptiveThreshold(gray, 255, cv2.ADAPTIVE_THRESH_GAUSSIAN_C, cv2.THRESH_BINARY, 11, 2)\n",
    "        \n",
    "        # Perform OCR\n",
    "        custom_config = f'--oem 3 --psm 6 -l {lang}'\n",
    "        page_text = pytesseract.image_to_string(gray, config=custom_config)\n",
    "        text += page_text + \"\\n\"\n",
    "    return text\n"
   ]
  },
  {
   "cell_type": "markdown",
   "id": "2d0aaf1a-7476-469c-b00a-ee74999a9533",
   "metadata": {},
   "source": [
    "Kode fra Llama"
   ]
  },
  {
   "cell_type": "code",
   "execution_count": 1,
   "id": "074e5b9f-93a7-4f94-8259-c761e584c47b",
   "metadata": {},
   "outputs": [],
   "source": [
    "import cv2\n",
    "import pytesseract\n",
    "from pdf2image import convert_from_path\n",
    "import pandas as pd\n",
    "\n",
    "def ocr_with_language(pdf_path, lang='eng'):\n",
    "    images = convert_from_path(pdf_path)\n",
    "    text = \"\"\n",
    "    layout_info = []\n",
    "    for image in images:\n",
    "        # Convert PIL image to OpenCV format\n",
    "        open_cv_image = cv2.cvtColor(np.array(image), cv2.COLOR_RGB2BGR)\n",
    "        \n",
    "        # Pre-process the image\n",
    "        gray = cv2.cvtColor(open_cv_image, cv2.COLOR_BGR2GRAY)\n",
    "        gray = cv2.medianBlur(gray, 3)\n",
    "        gray = cv2.adaptiveThreshold(gray, 255, cv2.ADAPTIVE_THRESH_GAUSSIAN_C, cv2.THRESH_BINARY, 11, 2)\n",
    "        \n",
    "        # Perform OCR\n",
    "        custom_config = f'--oem 3 --psm 6 -l {lang}'\n",
    "        page_text = pytesseract.image_to_string(gray, config=custom_config)\n",
    "        text += page_text + \"\\n\"\n",
    "        \n",
    "        # Get layout information\n",
    "        layout_data = pytesseract.image_to_data(gray, config=custom_config, output_type='dict')\n",
    "        layout_df = pd.DataFrame(layout_data)\n",
    "        layout_info.append(layout_df)\n",
    "    \n",
    "    return text, layout_info\n"
   ]
  },
  {
   "cell_type": "code",
   "execution_count": null,
   "id": "83ae87a0-4b22-47ce-9146-e22fd9eb03db",
   "metadata": {},
   "outputs": [],
   "source": [
    "import cv2\n",
    "import pytesseract\n",
    "from pdf2image import convert_from_path\n",
    "import pandas as pd\n",
    "import json\n",
    "\n",
    "def ocr_with_language(pdf_path, lang='eng'):\n",
    "    images = convert_from_path(pdf_path)\n",
    "    text = \"\"\n",
    "    layout_info = []\n",
    "    for image in images:\n",
    "        # Convert PIL image to OpenCV format\n",
    "        open_cv_image = cv2.cvtColor(np.array(image), cv2.COLOR_RGB2BGR)\n",
    "        \n",
    "        # Pre-process the image\n",
    "        gray = cv2.cvtColor(open_cv_image, cv2.COLOR_BGR2GRAY)\n",
    "        gray = cv2.medianBlur(gray, 3)\n",
    "        gray = cv2.adaptiveThreshold(gray, 255, cv2.ADAPTIVE_THRESH_GAUSSIAN_C, cv2.THRESH_BINARY, 11, 2)\n",
    "        \n",
    "        # Perform OCR\n",
    "        custom_config = f'--oem 3 --psm 6 -l {lang}'\n",
    "        page_text = pytesseract.image_to_string(gray, config=custom_config)\n",
    "        text += page_text + \"\\n\"\n",
    "        \n",
    "        # Get layout information\n",
    "        layout_data = pytesseract.image_to_data(gray, config=custom_config, output_type='dict')\n",
    "        layout_df = pd.DataFrame(layout_data)\n",
    "        layout_info.append(layout_df)\n",
    "    \n",
    "    # Convert layout information to JSON-like string\n",
    "    layout_json = []\n",
    "    for layout_df in layout_info:\n",
    "        layout_dict = layout_df.to_dict(orient='records')\n",
    "        layout_json.append(json.dumps(layout_dict))\n",
    "    \n",
    "    return text, layout_json\n"
   ]
  },
  {
   "cell_type": "code",
   "execution_count": 4,
   "id": "ff07b844-e736-4559-addd-b8abef23f712",
   "metadata": {},
   "outputs": [],
   "source": [
    "import unicodedata\n",
    "\n",
    "def normalize_text(text):\n",
    "    return unicodedata.normalize('NFKD', text).encode('ASCII', 'ignore').decode('utf-8')\n",
    "\n"
   ]
  },
  {
   "cell_type": "code",
   "execution_count": 5,
   "id": "acf4f6e7-ee90-45a6-a71a-acb1574ffc78",
   "metadata": {},
   "outputs": [],
   "source": [
    "import os"
   ]
  },
  {
   "cell_type": "code",
   "execution_count": 6,
   "id": "c04b02a0-59d3-4170-a55f-7fc80f955000",
   "metadata": {},
   "outputs": [],
   "source": [
    "root = \"../../Scans\""
   ]
  },
  {
   "cell_type": "code",
   "execution_count": 7,
   "id": "9b691ded-eb48-445a-9acd-4fc030ae0dfc",
   "metadata": {},
   "outputs": [],
   "source": [
    "files = os.walk(root)"
   ]
  },
  {
   "cell_type": "code",
   "execution_count": 8,
   "id": "6ad9cacf-8cb3-436c-b8ab-7dc19e789075",
   "metadata": {},
   "outputs": [],
   "source": [
    "filenames = [z for x,y,z in files]"
   ]
  },
  {
   "cell_type": "code",
   "execution_count": null,
   "id": "53819a43-18b9-4ab6-b917-f986646e9683",
   "metadata": {},
   "outputs": [],
   "source": []
  },
  {
   "cell_type": "code",
   "execution_count": 9,
   "id": "c044b6ce-a966-4d73-a8e5-d48f2c562362",
   "metadata": {},
   "outputs": [],
   "source": [
    "filepaths = [os.path.join(root,z) for z in filenames[0]] "
   ]
  },
  {
   "cell_type": "code",
   "execution_count": 19,
   "id": "903decea-1291-47d2-967c-9b8e42d41ca5",
   "metadata": {},
   "outputs": [
    {
     "name": "stdout",
     "output_type": "stream",
     "text": [
      "                           file language  \\\n",
      "0    ../../Scans/Doc3894OCR.pdf      nor   \n",
      "1    ../../Scans/Doc3893OCR.pdf      dan   \n",
      "2    ../../Scans/Doc3892OCR.pdf      eng   \n",
      "3    ../../Scans/Doc3891OCR.pdf      dan   \n",
      "4    ../../Scans/Doc3713OCR.pdf      dan   \n",
      "..                          ...      ...   \n",
      "984  ../../Scans/Doc2908OCR.pdf      ita   \n",
      "985  ../../Scans/Doc2907OCR.pdf      deu   \n",
      "986  ../../Scans/Doc2906OCR.pdf      deu   \n",
      "987  ../../Scans/Doc2905OCR.pdf      deu   \n",
      "988  ../../Scans/Doc2904OCR.pdf      dan   \n",
      "\n",
      "                                                  text  \n",
      "0    SV 20 DB\\n' Tørmessen, S(øren) Juell\\nNorsk gr...  \n",
      "1    SV 20 DB\\nTønnessen,. SCøren) Juell.\\n\\nLærebo...  \n",
      "2    | Hi. 10 . - oe -DB\\n.  M@ytler, (AléXatide? F...  \n",
      "3    Hi Je \"DB\\n(Tyskland)\\nDen tyske Hvid-Bog se\\n...  \n",
      "4    | k\\nPT 92 ' DB\\nSverdrup, J(akob) R(osted).\\n...  \n",
      "..                                                 ...  \n",
      "984  ST 35 DB\\n| Oettingen, Alexander von\\nDe pecca...  \n",
      "985  82.20. on DB; |\\n\\nOetinger, Friedrich; Christ...  \n",
      "986  i ST 35 DB,\\n| Oertel, J.R.\\n Hades.. u\\nExege...  \n",
      "987  .. MW. 10’ DB\\nDepke, A, w\\nAhmednagar\"ınd Gol...  \n",
      "988  RK\\nDE,\\n\\nNT 90\\n\\nOdland, Sigurd\\nOm apostol...  \n",
      "\n",
      "[989 rows x 3 columns]\n"
     ]
    }
   ],
   "source": [
    "import cv2\n",
    "import pytesseract\n",
    "from pdf2image import convert_from_path\n",
    "from langdetect import detect\n",
    "import pandas as pd\n",
    "import numpy as np\n",
    "import json\n",
    "\n",
    "# Ensure you have the correct path to the Tesseract executable\n",
    "#pytesseract.pytesseract.tesseract_cmd = r'C:\\Program Files\\Tesseract-OCR\\tesseract.exe'  # Change this path if needed\n",
    "\n",
    "# Convert PDF to images\n",
    "def convert_pdf_to_images(pdf_path):\n",
    "    return convert_from_path(pdf_path)\n",
    "\n",
    "# Perform OCR with language-specific configuration\n",
    "def ocr_with_language(pdf_path, lang='eng'):\n",
    "    images = convert_pdf_to_images(pdf_path)\n",
    "    text = \"\"\n",
    "    for image in images:\n",
    "        # Convert PIL image to OpenCV format\n",
    "        open_cv_image = cv2.cvtColor(np.array(image), cv2.COLOR_RGB2BGR)\n",
    "        \n",
    "        # Pre-process the image\n",
    "        gray = cv2.cvtColor(open_cv_image, cv2.COLOR_BGR2GRAY)\n",
    "        gray = cv2.medianBlur(gray, 3)\n",
    "        gray = cv2.adaptiveThreshold(gray, 255, cv2.ADAPTIVE_THRESH_GAUSSIAN_C, cv2.THRESH_BINARY, 11, 2)\n",
    "        \n",
    "        # Perform OCR\n",
    "        custom_config = f'--oem 3 --psm 6 -l {lang}'\n",
    "        page_text = pytesseract.image_to_string(gray, config=custom_config)\n",
    "        text += page_text + \"\\n\"\n",
    "    return text\n",
    "\n",
    "def detect_and_map_language(text):\n",
    "    try:\n",
    "        detected_lang = detect(text)\n",
    "        # Mapping to Tesseract language codes\n",
    "        language_mapping = {\n",
    "            'en': 'eng',\n",
    "            'da': 'dan',\n",
    "            'de': 'deu',\n",
    "            'fr': 'fra',\n",
    "            'es': 'spa',\n",
    "            'it': 'ita',\n",
    "            'nl': 'nld',\n",
    "            'sv': 'swe',\n",
    "            'no': 'nor',  # General Norwegian\n",
    "            'nob': 'nor', # Norwegian Bokmål\n",
    "            'nno': 'nor'  # Norwegian Nynorsk\n",
    "        }\n",
    "        return language_mapping.get(detected_lang, 'eng')  # Default to 'eng' if language not found\n",
    "    except:\n",
    "        return 'eng'\n",
    "\n",
    "# Example list of PDF file paths and languages (for testing purposes)\n",
    "file_paths = filepaths\n",
    "languages = ['eng', 'deu','fra','nor']  # Example detected languages\n",
    "\n",
    "results = []\n",
    "\n",
    "for file_path in file_paths:\n",
    "    text = ocr_with_language(file_path, lang='eng')\n",
    "    detected_lang = detect_and_map_language(text)\n",
    "    if detected_lang != 'eng':\n",
    "        text = ocr_with_language(file_path, lang=detected_lang)\n",
    "    results.append({\n",
    "        'file': file_path,\n",
    "        'language': detected_lang,\n",
    "        'text': text\n",
    "    })\n",
    "\n",
    "# Convert results to a DataFrame\n",
    "df_results = pd.DataFrame(results)\n",
    "print(df_results)\n",
    "\n",
    "# Convert the DataFrame to a dictionary\n",
    "results_dict = df_results.to_dict(orient='records')\n",
    "\n",
    "# Save to JSON for further processing using the json library\n",
    "with open('ocr_results.json', 'w', encoding='utf-8') as json_file:\n",
    "    json.dump(results_dict, json_file, ensure_ascii=False, indent=4)\n"
   ]
  },
  {
   "cell_type": "code",
   "execution_count": 21,
   "id": "f0c5648d-7b01-4bf4-92f9-3d8c2fd8cccf",
   "metadata": {},
   "outputs": [],
   "source": [
    "df_results.to_excel('scans_test.xlsx')"
   ]
  }
 ],
 "metadata": {
  "kernelspec": {
   "display_name": "Python 3 (ipykernel)",
   "language": "python",
   "name": "python3"
  },
  "language_info": {
   "codemirror_mode": {
    "name": "ipython",
    "version": 3
   },
   "file_extension": ".py",
   "mimetype": "text/x-python",
   "name": "python",
   "nbconvert_exporter": "python",
   "pygments_lexer": "ipython3",
   "version": "3.12.4"
  }
 },
 "nbformat": 4,
 "nbformat_minor": 5
}
