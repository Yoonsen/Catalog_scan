{
 "cells": [
  {
   "cell_type": "code",
   "execution_count": 2,
   "id": "52880b9c-cb15-43cf-86c5-5aa1610eb79e",
   "metadata": {},
   "outputs": [],
   "source": [
    "import re\n",
    "import pandas as pd\n",
    "# Function to parse text and extract structured information\n",
    "def parse_ocr_text(text):\n",
    "    author = None\n",
    "    title = None\n",
    "    year = None\n",
    "    \n",
    "    # Split text into lines\n",
    "    lines = text.split('\\n')\n",
    "    \n",
    "    for line in lines:\n",
    "        # Extract year (assuming year is a 4-digit number)\n",
    "        year_match = re.search(r'\\b(18|19|20)\\d{2}\\b', line)\n",
    "        if year_match:\n",
    "            year = year_match.group(0)\n",
    "        \n",
    "        # Extract author (assuming author names follow a pattern)\n",
    "        author_match = re.search(r'[A-Z][a-z]+,?\\s[A-Z]\\(\\w+\\)', line)\n",
    "        if author_match:\n",
    "            author = author_match.group(0)\n",
    "        \n",
    "        # Extract title (assuming title comes after author or year)\n",
    "        if author and year:\n",
    "            title_match = re.search(rf'{year}.+?$', line)\n",
    "            if title_match:\n",
    "                title = title_match.group(0).strip(year)\n",
    "                break\n",
    "    \n",
    "    return author, title, year"
   ]
  },
  {
   "cell_type": "code",
   "execution_count": 3,
   "id": "5e3e31e2-51f0-4e44-b971-12e6cdcc4b03",
   "metadata": {},
   "outputs": [],
   "source": [
    "df = pd.read_excel(\"scans_test.xlsx\")"
   ]
  },
  {
   "cell_type": "code",
   "execution_count": 4,
   "id": "51c99226-42f5-4692-97db-3a7626acabe9",
   "metadata": {},
   "outputs": [
    {
     "ename": "AttributeError",
     "evalue": "'float' object has no attribute 'split'",
     "output_type": "error",
     "traceback": [
      "\u001b[0;31m---------------------------------------------------------------------------\u001b[0m",
      "\u001b[0;31mAttributeError\u001b[0m                            Traceback (most recent call last)",
      "Cell \u001b[0;32mIn[4], line 4\u001b[0m\n\u001b[1;32m      2\u001b[0m parsed_data \u001b[38;5;241m=\u001b[39m []\n\u001b[1;32m      3\u001b[0m \u001b[38;5;28;01mfor\u001b[39;00m index, row \u001b[38;5;129;01min\u001b[39;00m df\u001b[38;5;241m.\u001b[39miterrows():\n\u001b[0;32m----> 4\u001b[0m     author, title, year \u001b[38;5;241m=\u001b[39m \u001b[43mparse_ocr_text\u001b[49m\u001b[43m(\u001b[49m\u001b[43mrow\u001b[49m\u001b[43m[\u001b[49m\u001b[38;5;124;43m'\u001b[39;49m\u001b[38;5;124;43mtext\u001b[39;49m\u001b[38;5;124;43m'\u001b[39;49m\u001b[43m]\u001b[49m\u001b[43m)\u001b[49m\n\u001b[1;32m      5\u001b[0m     parsed_data\u001b[38;5;241m.\u001b[39mappend({\n\u001b[1;32m      6\u001b[0m         \u001b[38;5;124m'\u001b[39m\u001b[38;5;124mfile\u001b[39m\u001b[38;5;124m'\u001b[39m: row[\u001b[38;5;124m'\u001b[39m\u001b[38;5;124mfile\u001b[39m\u001b[38;5;124m'\u001b[39m],\n\u001b[1;32m      7\u001b[0m         \u001b[38;5;124m'\u001b[39m\u001b[38;5;124mlanguage\u001b[39m\u001b[38;5;124m'\u001b[39m: row[\u001b[38;5;124m'\u001b[39m\u001b[38;5;124mlanguage\u001b[39m\u001b[38;5;124m'\u001b[39m],\n\u001b[0;32m   (...)\u001b[0m\n\u001b[1;32m     10\u001b[0m         \u001b[38;5;124m'\u001b[39m\u001b[38;5;124myear\u001b[39m\u001b[38;5;124m'\u001b[39m: year\n\u001b[1;32m     11\u001b[0m     })\n\u001b[1;32m     13\u001b[0m \u001b[38;5;66;03m# Convert the parsed data to a DataFrame\u001b[39;00m\n",
      "Cell \u001b[0;32mIn[2], line 10\u001b[0m, in \u001b[0;36mparse_ocr_text\u001b[0;34m(text)\u001b[0m\n\u001b[1;32m      7\u001b[0m year \u001b[38;5;241m=\u001b[39m \u001b[38;5;28;01mNone\u001b[39;00m\n\u001b[1;32m      9\u001b[0m \u001b[38;5;66;03m# Split text into lines\u001b[39;00m\n\u001b[0;32m---> 10\u001b[0m lines \u001b[38;5;241m=\u001b[39m \u001b[43mtext\u001b[49m\u001b[38;5;241;43m.\u001b[39;49m\u001b[43msplit\u001b[49m(\u001b[38;5;124m'\u001b[39m\u001b[38;5;130;01m\\n\u001b[39;00m\u001b[38;5;124m'\u001b[39m)\n\u001b[1;32m     12\u001b[0m \u001b[38;5;28;01mfor\u001b[39;00m line \u001b[38;5;129;01min\u001b[39;00m lines:\n\u001b[1;32m     13\u001b[0m     \u001b[38;5;66;03m# Extract year (assuming year is a 4-digit number)\u001b[39;00m\n\u001b[1;32m     14\u001b[0m     year_match \u001b[38;5;241m=\u001b[39m re\u001b[38;5;241m.\u001b[39msearch(\u001b[38;5;124mr\u001b[39m\u001b[38;5;124m'\u001b[39m\u001b[38;5;124m\\\u001b[39m\u001b[38;5;124mb(18|19|20)\u001b[39m\u001b[38;5;124m\\\u001b[39m\u001b[38;5;124md\u001b[39m\u001b[38;5;132;01m{2}\u001b[39;00m\u001b[38;5;124m\\\u001b[39m\u001b[38;5;124mb\u001b[39m\u001b[38;5;124m'\u001b[39m, line)\n",
      "\u001b[0;31mAttributeError\u001b[0m: 'float' object has no attribute 'split'"
     ]
    }
   ],
   "source": [
    "# Apply the parsing function to the dataframe\n",
    "parsed_data = []\n",
    "for index, row in df.iterrows():\n",
    "    author, title, year = parse_ocr_text(row['text'])\n",
    "    parsed_data.append({\n",
    "        'file': row['file'],\n",
    "        'language': row['language'],\n",
    "        'author': author,\n",
    "        'title': title,\n",
    "        'year': year\n",
    "    })\n",
    "\n",
    "# Convert the parsed data to a DataFrame\n",
    "parsed_df = pd.DataFrame(parsed_data)\n",
    "\n",
    "# Display the parsed DataFrame\n",
    "parsed_df.head()"
   ]
  }
 ],
 "metadata": {
  "kernelspec": {
   "display_name": "Python 3 (ipykernel)",
   "language": "python",
   "name": "python3"
  },
  "language_info": {
   "codemirror_mode": {
    "name": "ipython",
    "version": 3
   },
   "file_extension": ".py",
   "mimetype": "text/x-python",
   "name": "python",
   "nbconvert_exporter": "python",
   "pygments_lexer": "ipython3",
   "version": "3.12.4"
  }
 },
 "nbformat": 4,
 "nbformat_minor": 5
}
